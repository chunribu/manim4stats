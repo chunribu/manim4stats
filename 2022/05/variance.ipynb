{
  "cells": [
    {
      "cell_type": "markdown",
      "metadata": {
        "id": "view-in-github",
        "colab_type": "text"
      },
      "source": [
        "<a href=\"https://colab.research.google.com/github/chunribu/manim4stats/blob/main/2022/05/variance.ipynb\" target=\"_parent\"><img src=\"https://colab.research.google.com/assets/colab-badge.svg\" alt=\"Open In Colab\"/></a>"
      ]
    },
    {
      "cell_type": "markdown",
      "source": [
        "# 样本方差为什么要除以n-1\n",
        "\n",
        "**观看视频**\n",
        "\n",
        "[![YouTube](https://icon-icons.com/downloadimage.php?id=168737&root=2699/PNG/32/&file=youtube_logo_icon_168737.png)](https://youtu.be/tSBk9sJ25JQ) \n",
        "[![BiliBili](https://icon-icons.com/downloadimage.php?id=206792&root=3261/PNG/32/&file=bilibili_logo_icon_206792.png)](https://www.bilibili.com/video/BV1kU4y1m7uV/) \n",
        "[![iXigua](https://icon-icons.com/downloadimage.php?id=154582&root=2596/PNG/32/&file=xigua_icon_154582.png)](https://www.ixigua.com/7099248726815965732)\n"
      ],
      "metadata": {
        "id": "_1tD-y7StET-"
      }
    },
    {
      "cell_type": "code",
      "source": [
        "# 安装Manim\n",
        "!sudo apt install libcairo2-dev ffmpeg \\\n",
        "    texlive texlive-latex-extra texlive-fonts-extra \\\n",
        "    texlive-latex-recommended texlive-science \\\n",
        "    tipa libpango1.0-dev\n",
        "!pip install manim\n",
        "!pip install IPython --upgrade"
      ],
      "metadata": {
        "id": "X-d8mAbyyLCR"
      },
      "execution_count": null,
      "outputs": []
    },
    {
      "cell_type": "code",
      "execution_count": null,
      "metadata": {
        "id": "a3hXQw45s8ph",
        "outputId": "1dd43d34-4ed6-4dfc-cb9f-2f9354db13de"
      },
      "outputs": [
        {
          "data": {
            "text/html": [
              "<pre style=\"white-space:pre;overflow-x:auto;line-height:normal;font-family:Menlo,'DejaVu Sans Mono',consolas,'Courier New',monospace\">Manim Community <span style=\"color: #008000; text-decoration-color: #008000\">v0.15.2</span>\n",
              "\n",
              "</pre>\n"
            ],
            "text/plain": [
              "Manim Community \u001b[32mv0.\u001b[0m\u001b[32m15.2\u001b[0m\n",
              "\n"
            ]
          },
          "metadata": {},
          "output_type": "display_data"
        }
      ],
      "source": [
        "from manim import *"
      ]
    },
    {
      "cell_type": "code",
      "execution_count": null,
      "metadata": {
        "id": "bE2gCMTLs8pl"
      },
      "outputs": [],
      "source": [
        "colors = [BLUE, TEAL,  GREEN, YELLOW, GOLD, RED, MAROON]\n",
        "\n",
        "def get_dots():\n",
        "    dots = [Dot(color=i) for i in colors]\n",
        "    labels = [SingleStringMathTex(f'x_{i+1}', color=colors[i], font_size=20) for i in range(7)]\n",
        "    dots_g = VGroup(*dots, *labels).arrange_in_grid(rows=2)\n",
        "    box = SurroundingRectangle(dots_g, color=WHITE, buff=0.3)\n",
        "    dots_g_b = VGroup(box, dots_g)\n",
        "    return dots, dots_g_b\n",
        "\n",
        "def get_nl():\n",
        "    return NumberLine(\n",
        "        x_range=[1,7,1],\n",
        "        include_numbers=True\n",
        "    )"
      ]
    },
    {
      "cell_type": "code",
      "execution_count": null,
      "metadata": {
        "id": "dOwoIub_s8pn",
        "outputId": "fe5574b7-2bf1-4473-8938-235d39b2aadd"
      },
      "outputs": [
        {
          "name": "stderr",
          "output_type": "stream",
          "text": [
            "                                                                                                                                                                   \r"
          ]
        },
        {
          "data": {
            "text/html": [
              "<video src=\"media\\jupyter\\View0@2022-05-19@01-56-52.mp4\" controls autoplay loop style=\"max-width: 60%;\"  >\n",
              "      Your browser does not support the <code>video</code> element.\n",
              "    </video>"
            ],
            "text/plain": [
              "<IPython.core.display.Video object>"
            ]
          },
          "metadata": {},
          "output_type": "display_data"
        }
      ],
      "source": [
        "%%manim -ql -v WARNING View0\n",
        "\n",
        "class View0(Scene):\n",
        "    def construct(self):\n",
        "        dots, dots_g_b = get_dots()\n",
        "        self.play(Create(dots_g_b), run_time=2)\n",
        "        self.wait(2)\n",
        "        self.play(dots_g_b.animate.to_edge(UL, buff=MED_LARGE_BUFF))\n",
        "\n",
        "        nl = get_nl()\n",
        "        self.play(Write(nl))\n",
        "\n",
        "        _dots = [d.copy() for d in dots]\n",
        "        self.play(*[d.animate.move_to(nl.n2p(i+1)) for i,d in enumerate(_dots)])\n",
        "        self.play(*[Indicate(d,color=WHITE) for d in _dots])\n",
        "\n",
        "        nl_d = VGroup(nl, *_dots)\n",
        "        self.play(nl_d.animate.shift(DOWN*2))\n",
        "\n",
        "        labels = [nl.get_number_mobject(i) for i in range(1,8)]\n",
        "        for i,l in enumerate(labels):\n",
        "            self.play(Indicate(l, color=colors[i], scale_factor=1.5), run_time=0.4)\n",
        "\n",
        "        t_n_pre = MathTex('N=')\n",
        "        t_n = labels[-1].copy().scale(1.5)\n",
        "        t_n_g = VGroup(t_n, t_n_pre)\n",
        "        self.play(Write(t_n_pre))\n",
        "        self.wait()\n",
        "        self.play(\n",
        "            t_n.animate.next_to(t_n_pre, RIGHT), \n",
        "            Circumscribe(t_n, shape=Circle, buff=0.4, run_time=0.3)\n",
        "        )\n",
        "        self.play(t_n_g.animate.next_to(dots_g_b, DOWN, buff=SMALL_BUFF))\n",
        "\n",
        "        t_mu_pre = MathTex(r'\\mu=')\n",
        "        self.play(Write(t_mu_pre))\n",
        "        self.play(t_mu_pre.animate.shift(LEFT*4))\n",
        "\n",
        "        t_mu_list = [t_mu_pre]\n",
        "        for i, l in enumerate(labels):\n",
        "            t_mu_list.append(l.copy().scale(1.5))\n",
        "            self.play(\n",
        "                t_mu_list[-1].animate.next_to(t_mu_list[-2]),\n",
        "                Circumscribe(_dots[i], shape=Circle, buff=0.4, run_time=0.3),\n",
        "                run_time=0.5\n",
        "            )\n",
        "            if i < 6:\n",
        "                plus = MathTex('+').next_to(t_mu_list[-1])\n",
        "                t_mu_list.append(plus)\n",
        "                self.play(Create(t_mu_list[-1]), run_time=0.5)\n",
        "\n",
        "        t_mu_x_g = VGroup(*t_mu_list[1:])\n",
        "        ul = Underline(t_mu_x_g).shift(UP*0.4)\n",
        "        self.play(t_mu_x_g.animate.shift(UP*0.5), Create(ul))\n",
        "        t_n_ = t_n.copy()\n",
        "        self.play(t_n_.animate.next_to(ul, DOWN))\n",
        "        t_mu_su = MathTex('=4').next_to(ul, RIGHT)\n",
        "        self.play(Write(t_mu_su))\n",
        "\n",
        "        t_mu_list.extend([ul, t_n_, t_mu_su])\n",
        "        t_mu_g = VGroup(*t_mu_list)\n",
        "        t_mean = MathTex(r'\\mu=\\frac{1}{N} \\sum_{i=1}^N x_{i}=4').shift(LEFT*2)\n",
        "        self.play(ReplacementTransform(t_mu_g, t_mean))\n",
        "        self.wait()\n",
        "        self.play(t_mean.animate.next_to(t_n_g, DOWN))\n",
        "\n",
        "        mean_coord = nl.n2p(4)\n",
        "        dl_mu = DashedLine(UP*2, DOWN).move_to(mean_coord+UP*0.6)\n",
        "        self.play(Create(dl_mu))\n",
        "        dl_mu_t = MathTex(r'\\mu').next_to(dl_mu, DOWN)\n",
        "        self.play(Write(dl_mu_t))\n",
        "        \n",
        "        d_list = []\n",
        "        for i in range(7):\n",
        "            _hight = (4 - abs(3-i)) * 0.5\n",
        "            p1 = nl.n2p(i+1) + UP*_hight\n",
        "            p2 = mean_coord + UP*_hight\n",
        "            if i==3:\n",
        "                d_list.append(Square(side_length=0.2, color=colors[i]).move_to(p1).rotate(PI/4))\n",
        "            else:\n",
        "                d_list.append(\n",
        "                    DoubleArrow(p1, p2, buff=0, tip_length=0.2, color=colors[i])\n",
        "                )\n",
        "            self.play(Write(d_list[-1]))\n",
        "\n",
        "        t_sigma = MathTex('(','3','^2+','2','^2+','1','^2+','0','^2+','1','^2+','2','^2+','3','^2',')',r'\\times\\frac{1}{7}','=4')\\\n",
        "                  .shift(UP*2+RIGHT*2)\n",
        "        for i in range(7):\n",
        "            d_sym = d_list[i].copy()\n",
        "            d_t = t_sigma.submobjects[i*2+1]\n",
        "            self.play(d_sym.animate.move_to(d_t.get_center()), run_time=0.6)\n",
        "            self.play(FadeOut(d_sym, run_time=0.5), Write(d_t))\n",
        "        self.play(*[Write(t_sigma.submobjects[s-1]) for s in [3,5,7,9,11,13,15]])\n",
        "        self.play(*[Write(t_sigma.submobjects[s]) for s in [0,15]])\n",
        "        self.play(*[Write(t_sigma.submobjects[s]) for s in [-2]])\n",
        "        self.play(*[Write(t_sigma.submobjects[s]) for s in [-1]])\n",
        "\n",
        "        t_variance = MathTex(r'\\sigma^2=\\frac{1}{N}\\sum_{i=1}^N (x_{i}-\\mu)^2=4').shift(UP*2)\n",
        "        self.play(ReplacementTransform(t_sigma, t_variance))\n",
        "        self.play(t_variance.animate.next_to(t_mean.copy().shift(RIGHT*0.7), DOWN))\n",
        "\n",
        "        nl_g = VGroup(*([nl_d, dl_mu, dl_mu_t] + d_list + labels))\n",
        "        self.play(nl_g.animate.scale(0.5)\\\n",
        "                              .to_edge(UR, buff=MED_LARGE_BUFF))\n",
        "\n",
        "        self.play(t_mean.animate.move_to(ORIGIN+UP))\n",
        "        self.play(t_variance.animate.move_to(ORIGIN+DOWN))\n",
        "\n",
        "        self.wait(2)"
      ]
    },
    {
      "cell_type": "code",
      "execution_count": null,
      "metadata": {
        "id": "enDJ9Qdms8pq",
        "outputId": "5f06e0fc-a1da-42b8-ed66-4a4b8fd583dd"
      },
      "outputs": [
        {
          "name": "stderr",
          "output_type": "stream",
          "text": [
            "                                                                                                                                                                                \r"
          ]
        },
        {
          "data": {
            "text/html": [
              "<video src=\"media\\jupyter\\View1@2022-05-19@02-00-02.mp4\" controls autoplay loop style=\"max-width: 60%;\"  >\n",
              "      Your browser does not support the <code>video</code> element.\n",
              "    </video>"
            ],
            "text/plain": [
              "<IPython.core.display.Video object>"
            ]
          },
          "metadata": {},
          "output_type": "display_data"
        }
      ],
      "source": [
        "%%manim -ql -v WARNING View1\n",
        "\n",
        "class View1(Scene):\n",
        "    def pos_xn(self, m):\n",
        "        left = m.get_left()\n",
        "        x2 = left + UP*0.28 + RIGHT*1.6\n",
        "        x3 = left + UP*0.28 + RIGHT*4.2\n",
        "        x4 = left + UP*0.28 + RIGHT*6.9\n",
        "        n = left + DOWN*0.35 + RIGHT*4.9\n",
        "        return x2, x3, x4, n\n",
        "    \n",
        "    def get_rectangle_corners(self, bottom_left, top_right):\n",
        "        return [\n",
        "            (top_right[0], top_right[1]),\n",
        "            (bottom_left[0], top_right[1]),\n",
        "            (bottom_left[0], bottom_left[0]),\n",
        "            (top_right[0], bottom_left[0]),\n",
        "        ]\n",
        "\n",
        "    def construct(self):\n",
        "        dots, dots_g_b = get_dots()\n",
        "        nl = get_nl()\n",
        "        self.add(dots_g_b.to_edge(UL, buff=MED_LARGE_BUFF))\n",
        "        self.play(Write(nl), run_time=1.5)\n",
        "        self.wait()\n",
        "        t_smp = Text('抽样(Sampling)').scale(0.5).to_edge(DOWN, buff=MED_LARGE_BUFF)\n",
        "        self.play(Write(t_smp))\n",
        "        _dots = [dots[i].copy() for i in [1,2,3]]\n",
        "        self.play(*[_dots[i].animate.move_to(nl.n2p(i+2)) for i in range(3)], run_time=1.5)\n",
        "        self.play(FadeOut(t_smp))\n",
        "\n",
        "        nl_d = VGroup(nl, *_dots)\n",
        "        self.play(nl_d.animate.shift(DOWN*2))\n",
        "        self.wait()\n",
        "\n",
        "        t_n = MathTex('n=3')\n",
        "        self.play(Write(t_n),run_time=1.5)\n",
        "        self.play(t_n.animate.next_to(dots_g_b, DOWN))\n",
        "        self.wait()\n",
        "\n",
        "        t_ss = MathTex(r'S^2 = \\frac{(x_2-\\mu)^2+(x_3-\\mu)^2+(x_4-\\mu)^2}{n}')\n",
        "        t_ss_ = MathTex(r'=\\frac{(2-\\mu)^2+(3-\\mu)^2+(4-\\mu)^2}{3}').shift(UP*1.8+RIGHT*2)\n",
        "        self.play(Write(t_ss), run_time=2)\n",
        "        self.play(t_ss.animate.shift(UP*3+RIGHT*2))\n",
        "\n",
        "        p_x2, p_x3, p_x4, p_n = self.pos_xn(t_ss)\n",
        "        p_targets = [p_x2, p_x3, p_x4, p_n]\n",
        "        p_params = [d.copy() for d in _dots]+[t_n.copy()]\n",
        "        for i, p in enumerate(p_params):\n",
        "            self.play(p.animate.move_to(p_targets[i]), run_time=0.6)\n",
        "            self.play(Flash(p), FadeOut(p))\n",
        "        self.wait()\n",
        "        self.play(FadeIn(t_ss_))\n",
        "        self.wait()\n",
        "\n",
        "        t_ss___ = MathTex(r'=\\mu^2-6\\mu+\\frac{29}{3}').shift(UP*0.5+RIGHT*0.15)\n",
        "        self.play(FadeIn(t_ss___))\n",
        "        self.wait()\n",
        "\n",
        "        t_ss__ = MathTex(r'= \\frac{3\\mu^2 - 2(x_2+x_3+x_4)\\mu + (x_2^2+x_3^2+x_4^2)} {n}')\\\n",
        "                    .scale(0.86)\\\n",
        "                    .shift(UP*3+RIGHT*2.5)\n",
        "        \n",
        "        t_ss_final_r = MathTex(r'S^2= \\frac{3}{n}\\mu^2 - 2\\frac{x_2+x_3+x_4}{n}\\mu + \\frac{x_2^2+x_3^2+x_4^2}{n}')\\\n",
        "                        .move_to(t_ss__.get_center())\\\n",
        "                        .scale(0.86)\n",
        "        t_ss_final_l = MathTex(r'S^2=\\mu^2-6\\mu+\\frac{29}{3}').move_to(t_ss___.get_center())\n",
        "        self.add(t_ss_final_l)\n",
        "        self.play(t_ss_final_l.animate.scale(0.75).next_to(t_n, DOWN))\n",
        "        self.wait(2)\n",
        "\n",
        "        self.add(t_ss_final_r)\n",
        "        t_ss_g = VGroup(t_ss, t_ss_, t_ss___)\n",
        "        self.play(ReplacementTransform(t_ss_g, t_ss_final_r))\n",
        "        self.play(t_ss_final_r.animate.next_to(dots_g_b, RIGHT, buff=MED_LARGE_BUFF))\n",
        "        self.wait()\n",
        "\n",
        "        self.play(FadeOut(nl_d), run_time=0.5)\n",
        "\n",
        "#\n",
        "        ax = Axes(\n",
        "            x_range=[0, 7],\n",
        "            y_range=[0, 7],\n",
        "            x_length=5,\n",
        "            y_length=4.5,\n",
        "            axis_config={\n",
        "                \"include_numbers\": True,\n",
        "                \"include_tip\": False\n",
        "            },\n",
        "        ).shift(RIGHT)\n",
        "\n",
        "        graph = ax.plot(\n",
        "            lambda x: x**2 - 6*x + 29/3,\n",
        "            color=BLUE,\n",
        "            x_range=[0.5, 5.5, 0.01],\n",
        "            use_smoothing=False,\n",
        "        )\n",
        "\n",
        "        x = ValueTracker(1)\n",
        "\n",
        "        dot = Dot()\n",
        "        dot.add_updater(lambda m: m.move_to(ax.c2p(\n",
        "                x.get_value(),\n",
        "                x.get_value()**2 - 6*x.get_value() + 29/3\n",
        "            )))\n",
        "        dot.set_z_index(10)\n",
        "\n",
        "        def get_rectangle():\n",
        "            polygon = Polygon(\n",
        "                *[\n",
        "                    ax.c2p(*i)\n",
        "                    for i in self.get_rectangle_corners(\n",
        "                        (0, 0), (x.get_value(), x.get_value()**2 - 6*x.get_value() + 29/3)\n",
        "                    )\n",
        "                ]\n",
        "            )\n",
        "            polygon.stroke_width = 1\n",
        "            polygon.set_stroke(GRAY_D)\n",
        "            return polygon\n",
        "        polygon = always_redraw(get_rectangle)\n",
        "\n",
        "        _t_mu = MathTex(r'\\mu', color=BLUE_A)\n",
        "        _t_mu.add_updater(lambda m: m.move_to(ax.c2p(\n",
        "                x.get_value(), \n",
        "                -1\n",
        "            )))\n",
        "        _t_mu.set_z_index(9)\n",
        "\n",
        "        _t_ss = MathTex(r'S^2', color=BLUE_A)\n",
        "        _t_ss.add_updater(lambda m: m.move_to(ax.c2p(\n",
        "                -1, \n",
        "                x.get_value()**2 - 6*x.get_value() + 29/3\n",
        "            )))\n",
        "        _t_ss.set_z_index(9)\n",
        "\n",
        "        self.wait()\n",
        "\n",
        "        self.play(Create(ax), run_time=1.5)\n",
        "        self.wait()\n",
        "        self.play(Create(graph), run_time=1.5)\n",
        "        self.wait()\n",
        "        self.play(Create(dot), Create(polygon), Create(_t_mu), Create(_t_ss))\n",
        "        self.wait()\n",
        "\n",
        "        self.play(x.animate.set_value(5), run_time=3)\n",
        "        self.play(x.animate.set_value(4), run_time=1.5)\n",
        "        self.wait(2)\n",
        "\n",
        "        dl = DashedLine(UP*4, DOWN).move_to(ax.c2p(3,3.5))\n",
        "        self.play(Write(dl))\n",
        "        self.wait()\n",
        "\n",
        "        t_2ab = MathTex(r'\\frac{b}{-2a}').move_to(UR*1.2)\n",
        "        t_2ab_ = MathTex(r'=\\frac{\\;}{-2\\;\\;\\;\\;\\;\\;\\;\\;\\;\\;\\;\\;\\;\\;\\;}').next_to(t_2ab, RIGHT).shift(DOWN*0.2)\n",
        "        t_a = MathTex(r'\\frac{3}{n}', color=RED).scale(0.86).move_to(t_ss_final_r.get_center()+LEFT*2.9)\n",
        "        t_b = MathTex(r'-2\\frac{x_2+x_3+x_4}{n}', color=GREEN).scale(0.86).move_to(t_ss_final_r.get_center()+LEFT*0.6)\n",
        "        self.play(Create(t_2ab))\n",
        "        self.play(Create(t_2ab_))\n",
        "        self.wait()\n",
        "        \n",
        "        self.add( t_a, t_b)\n",
        "        self.play(t_a.animate.move_to(t_2ab_.get_center()+DOWN*0.3+RIGHT*0.3))\n",
        "        self.play(t_b.animate.move_to(t_2ab_.get_center()+UP*0.75+RIGHT*0.2))\n",
        "        self.wait(2)\n",
        "\n",
        "        def get_slopes():\n",
        "            return ax.get_secant_slope_group(\n",
        "                x=x.get_value(),\n",
        "                graph=graph,\n",
        "                dx=0.01,\n",
        "                secant_line_length=2,\n",
        "                secant_line_color=WHITE,\n",
        "            )\n",
        "        slopes = always_redraw(get_slopes)\n",
        "        self.play(Create(slopes))\n",
        "        self.play(x.animate.set_value(3), run_time=2)\n",
        "\n",
        "        t_2ab__ = MathTex(r'=\\overline{x}').next_to(t_2ab_, RIGHT)\n",
        "        self.play(FadeIn(t_2ab__))\n",
        "        t_2ab_g = VGroup(t_2ab, t_2ab_, t_2ab__, t_a, t_b)\n",
        "        t_xbar = MathTex(r'\\overline{x}').move_to(UR*1.2+LEFT*0.2)\n",
        "        self.play(ReplacementTransform(t_2ab_g, t_xbar))\n",
        "        self.wait(2)\n",
        "\n",
        "        # self.play(t_xbar.animate.set_color(BLUE))\n",
        "        self.play(_t_mu.animate.set_color(GRAY_E), Flash(_t_mu, color=GRAY, flash_radius=0.2))\n",
        "        self.wait(4)\n",
        "\n",
        "        self.play(Indicate(_t_ss, color=WHITE))\n",
        "        self.wait()\n",
        "\n",
        "        t_cmp = MathTex(r'\\frac{\\sum (x-\\overline{x})^2}{n} < \\frac{\\sum (x-\\mu)^2}{N}').shift(RIGHT*4)\n",
        "        self.play(Write(t_cmp), run_time=3)\n",
        "        self.play(ApplyWave(t_cmp, direction=RIGHT))\n",
        "\n",
        "        self.wait(4)"
      ]
    },
    {
      "cell_type": "code",
      "execution_count": null,
      "metadata": {
        "id": "Sg5d0CFIs8pu",
        "outputId": "c51825f6-c901-4a1e-b08b-d0dbcf4bbd17"
      },
      "outputs": [
        {
          "name": "stderr",
          "output_type": "stream",
          "text": [
            "                                                                                                                                                \r"
          ]
        },
        {
          "data": {
            "text/html": [
              "<video src=\"media\\jupyter\\View2@2022-05-19@02-00-18.mp4\" controls autoplay loop style=\"max-width: 60%;\"  >\n",
              "      Your browser does not support the <code>video</code> element.\n",
              "    </video>"
            ],
            "text/plain": [
              "<IPython.core.display.Video object>"
            ]
          },
          "metadata": {},
          "output_type": "display_data"
        }
      ],
      "source": [
        "%%manim -ql -v WARNING View2\n",
        "\n",
        "class View2(Scene):\n",
        "    def construct(self):\n",
        "        t_ss = MathTex(r'S^2 = \\frac{\\sum_{i=1}^{n}(x_i-\\overline{x})^2}{\\;}')\n",
        "        t_n = MathTex(r'n').move_to(t_ss.get_center()+DOWN*0.5+RIGHT*0.6)\n",
        "        t_minus1 = MathTex(r'-1').scale(0.8).next_to(t_n, RIGHT, buff=0.1)\n",
        "        self.play(FadeIn(t_ss), FadeIn(t_n), run_time=2)\n",
        "        self.wait(2)\n",
        "        \n",
        "        self.play(Create(t_minus1), run_time=2)\n",
        "\n",
        "        t_n_minus1 = VGroup(t_n, t_minus1)\n",
        "        self.play(t_n_minus1.animate.shift(LEFT*0.3))\n",
        "\n",
        "        t_ubv = Text('无偏方差(Unbiased Variance)').scale(0.5).to_edge(DOWN, buff=MED_LARGE_BUFF)\n",
        "        self.play(Write(t_ubv))\n",
        "\n",
        "        self.wait(2)"
      ]
    },
    {
      "cell_type": "code",
      "execution_count": null,
      "metadata": {
        "id": "5IsfX7wDs8pv"
      },
      "outputs": [],
      "source": [
        ""
      ]
    }
  ],
  "metadata": {
    "interpreter": {
      "hash": "e09cb2cffb659c8bc57a9c18f2f521820ea454b8dbbc48853d64bcf36627b3e2"
    },
    "kernelspec": {
      "display_name": "Python 3.9.7 ('base')",
      "language": "python",
      "name": "python3"
    },
    "language_info": {
      "codemirror_mode": {
        "name": "ipython",
        "version": 3
      },
      "file_extension": ".py",
      "mimetype": "text/x-python",
      "name": "python",
      "nbconvert_exporter": "python",
      "pygments_lexer": "ipython3",
      "version": "3.9.7"
    },
    "orig_nbformat": 4,
    "colab": {
      "name": "variance.ipynb",
      "provenance": [],
      "collapsed_sections": [],
      "include_colab_link": true
    }
  },
  "nbformat": 4,
  "nbformat_minor": 0
}