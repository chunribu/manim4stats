{
  "cells": [
    {
      "cell_type": "markdown",
      "metadata": {
        "id": "view-in-github",
        "colab_type": "text"
      },
      "source": [
        "<a href=\"https://colab.research.google.com/github/chunribu/manim4stats/blob/main/2022/05/pvalue.ipynb\" target=\"_parent\"><img src=\"https://colab.research.google.com/assets/colab-badge.svg\" alt=\"Open In Colab\"/></a>"
      ]
    },
    {
      "cell_type": "markdown",
      "source": [
        "# p值的真正含义是什么？\n",
        "\n",
        "**观看视频**\n",
        "\n",
        "[![YouTube](https://icon-icons.com/downloadimage.php?id=168737&root=2699/PNG/32/&file=youtube_logo_icon_168737.png)](https://youtu.be/FVvNGcmwd8g) \n",
        "[![BiliBili](https://icon-icons.com/downloadimage.php?id=206792&root=3261/PNG/32/&file=bilibili_logo_icon_206792.png)](https://www.bilibili.com/video/BV1S5411X7ca/) \n",
        "[![iXigua](https://icon-icons.com/downloadimage.php?id=154582&root=2596/PNG/32/&file=xigua_icon_154582.png)](https://www.ixigua.com/7102252677094244871)"
      ],
      "metadata": {
        "id": "wDev83TiGkR1"
      }
    },
    {
      "cell_type": "code",
      "execution_count": null,
      "metadata": {
        "id": "oxViORgeGeOB",
        "outputId": "a912ed08-affd-4fb9-caf2-59d5bc943a01"
      },
      "outputs": [
        {
          "data": {
            "text/html": [
              "<pre style=\"white-space:pre;overflow-x:auto;line-height:normal;font-family:Menlo,'DejaVu Sans Mono',consolas,'Courier New',monospace\">Manim Community <span style=\"color: #008000; text-decoration-color: #008000\">v0.15.2</span>\n",
              "\n",
              "</pre>\n"
            ],
            "text/plain": [
              "Manim Community \u001b[32mv0.\u001b[0m\u001b[32m15.2\u001b[0m\n",
              "\n"
            ]
          },
          "metadata": {},
          "output_type": "display_data"
        }
      ],
      "source": [
        "from manim import *"
      ]
    },
    {
      "cell_type": "code",
      "execution_count": null,
      "metadata": {
        "id": "-7zt7E2eGeOF",
        "outputId": "62bed645-3733-4e00-ec31-9722f608bfa6"
      },
      "outputs": [
        {
          "name": "stderr",
          "output_type": "stream",
          "text": [
            "                                                                                                                                       \r"
          ]
        },
        {
          "data": {
            "text/html": [
              "<video src=\"media\\jupyter\\View0@2022-05-26@16-52-32.mp4\" controls autoplay loop style=\"max-width: 60%;\"  >\n",
              "      Your browser does not support the <code>video</code> element.\n",
              "    </video>"
            ],
            "text/plain": [
              "<IPython.core.display.Video object>"
            ]
          },
          "metadata": {},
          "output_type": "display_data"
        }
      ],
      "source": [
        "%%manim -ql -v WARNING View0\n",
        "\n",
        "class View0(Scene):\n",
        "    def construct(self):\n",
        "        self.wait()\n",
        "        # self.add(NumberPlane())\n",
        "\n",
        "        gender = ['♂','♀','♂','♀','♂','♀','♂']\n",
        "        color = [BLUE,RED,BLUE,RED,BLUE,RED,BLUE]\n",
        "        fish = [Text(gender[i], color=color[i]) for i in range(7)]\n",
        "        lake = VGroup(*fish).arrange_in_grid(rows=1)\n",
        "        box = SurroundingRectangle(lake, buff=MED_SMALL_BUFF, color=WHITE)\n",
        "        lake.add_to_back(box)\n",
        "        self.play(Create(lake, run_time=3))\n",
        "        self.wait()\n",
        "        self.play(lake.animate.scale(0.8).to_edge(UL, buff=MED_LARGE_BUFF))\n",
        "\n",
        "        t1 = Text('第一条鱼', font_size=30)\n",
        "        self.play(Write(t1))\n",
        "        self.play(t1.animate.shift(LEFT*5))\n",
        "\n",
        "        t1_f = MathTex(r'\\frac{3}{7}').shift(LEFT)\n",
        "        t1_m = MathTex(r'\\frac{4}{7}').shift(RIGHT*2)\n",
        "\n",
        "        f_1_f = fish[-2].copy()\n",
        "        f_1_m = fish[-1].copy()\n",
        "        self.play(f_1_f.animate.next_to(t1_f, LEFT))\n",
        "        self.play(Write(t1_f))\n",
        "        self.wait()\n",
        "\n",
        "        self.play(f_1_m.animate.next_to(t1_m, LEFT))\n",
        "        self.play(Write(t1_m))\n",
        "        self.wait()\n",
        "\n",
        "        f_1_g = VGroup(t1, f_1_f, f_1_m, t1_f, t1_m)\n",
        "        self.play(f_1_g.animate.shift(UP*2))\n",
        "\n",
        "        t2 = Text('第二条鱼', font_size=30)\n",
        "        f_2_f = fish[-4].copy()\n",
        "        f_2_m = fish[-3].copy()\n",
        "        f_2_f_ = f_2_f.copy()\n",
        "        f_2_m_ = f_2_m.copy()\n",
        "        \n",
        "        self.play(Write(t2))\n",
        "        self.play(t2.animate.shift(LEFT*5))\n",
        "        self.play(f_2_f.animate.move_to([-2,0,0]), f_2_m.animate.move_to([-1,0,0]))\n",
        "        self.wait(0.5)\n",
        "        self.play(f_2_f_.animate.move_to([1,0,0]), f_2_m_.animate.move_to([2,0,0]))\n",
        "        self.wait(0.5)\n",
        "\n",
        "        f_2_g = VGroup(t2, f_2_f, f_2_m, f_2_f_, f_2_m_)\n",
        "        self.play(f_2_g.animate.shift(UP))\n",
        "\n",
        "        self.wait()\n",
        "\n",
        "        res_ff = MathTex(r'\\frac{9}{49}', color=RED).move_to([-2.5,0,0])\n",
        "        res_fm = MathTex(r'\\frac{12}{49}', color=GREEN).move_to([-0.5,0,0])\n",
        "        res_mf = MathTex(r'\\frac{12}{49}', color=GREEN).move_to([0.5,0,0])\n",
        "        res_mm = MathTex(r'\\frac{16}{49}', color=BLUE).move_to([2.5,0,0])\n",
        "        self.play(Write(res_ff))\n",
        "        self.play(Write(res_fm))\n",
        "        self.play(Write(res_mf))\n",
        "        self.play(Write(res_mm))\n",
        "\n",
        "        fm_g = VGroup(res_fm, res_mf)\n",
        "        fm_box = SurroundingRectangle(fm_g, color=GREEN)\n",
        "        self.play(Create(fm_box, rate_func=linear))\n",
        "        res_fm_ = MathTex(r'\\frac{24}{49}', color=GREEN)\n",
        "        self.play(ReplacementTransform(fm_g, res_fm_))\n",
        "        self.wait()\n",
        "\n",
        "        t_q = Text('♂♂事件发生的p值？', font_size=30).shift(DOWN)\n",
        "        self.play(Write(t_q))\n",
        "        self.play(t_q.animate.shift(LEFT*4))\n",
        "        self.wait(2)\n",
        "\n",
        "        self.play(Wiggle(res_mm))\n",
        "        self.wait()\n",
        "\n",
        "        t_a = MathTex(r'\\frac{25}{49}').shift(DOWN*2)\n",
        "        self.play(ReplacementTransform(VGroup(res_ff.copy(), res_mm.copy()), t_a))\n",
        "        self.wait()\n",
        "\n",
        "        t_p_val = Text('p值 = 事件本身发生的概率 + 同等或更加罕见事件发生的概率',font_size=30, color=YELLOW).shift(DOWN*3)\n",
        "        self.play(Write(t_p_val))\n",
        "        self.wait(5)"
      ]
    },
    {
      "cell_type": "code",
      "execution_count": null,
      "metadata": {
        "id": "EvWrHmr4GeOJ",
        "outputId": "347004c6-c737-4cd8-9070-467d5b4d89d9"
      },
      "outputs": [
        {
          "name": "stderr",
          "output_type": "stream",
          "text": [
            "                                                                                                           \r"
          ]
        },
        {
          "data": {
            "text/html": [
              "<video src=\"media\\jupyter\\View1@2022-05-26@16-47-50.mp4\" controls autoplay loop style=\"max-width: 60%;\"  >\n",
              "      Your browser does not support the <code>video</code> element.\n",
              "    </video>"
            ],
            "text/plain": [
              "<IPython.core.display.Video object>"
            ]
          },
          "metadata": {},
          "output_type": "display_data"
        }
      ],
      "source": [
        "%%manim -ql -v WARNING View1\n",
        "import math\n",
        "\n",
        "class View1(Scene):\n",
        "    def construct(self):\n",
        "        # self.add(NumberPlane())\n",
        "        ax = Axes(\n",
        "            x_range=[0, 8],\n",
        "            y_range=[0, 0.5],\n",
        "            x_axis_config={\"numbers_to_include\": [2,4,6]},\n",
        "            tips=False,\n",
        "        )\n",
        "        norm = ax.plot(lambda x: 1/math.sqrt(TAU)*math.exp(-(x-4)**2/2),\n",
        "            color=BLUE_C\n",
        "        )\n",
        "        area1 = ax.get_area(norm, [0, 2], color=YELLOW_B, opacity=0.5)\n",
        "        area2 = ax.get_area(norm, [6, 8], color=YELLOW_B, opacity=0.5)\n",
        "        t1 = Text('2.3 %', color=YELLOW_B, font_size=30).move_to([-4,-2.5,0])\n",
        "        t2 = Text('2.3 %', color=YELLOW_B, font_size=30).move_to([4,-2.5,0])\n",
        "        t3 = Text('p值 = 4.6 %', font_size=30).shift(UP*2.5)\n",
        "\n",
        "        self.play(Create(ax, run_time=2))\n",
        "        self.play(Create(norm, run_time=2.5))\n",
        "        self.wait()\n",
        "\n",
        "        self.play(Write(area1))\n",
        "        self.play(Write(t1))\n",
        "        self.wait()\n",
        "\n",
        "        self.play(Write(area2), Write(t2))\n",
        "        self.wait()\n",
        "\n",
        "        self.play(ReplacementTransform(VGroup(t1, t2), t3))\n",
        "        self.wait(5)"
      ]
    }
  ],
  "metadata": {
    "interpreter": {
      "hash": "e09cb2cffb659c8bc57a9c18f2f521820ea454b8dbbc48853d64bcf36627b3e2"
    },
    "kernelspec": {
      "display_name": "Python 3.9.7 ('base')",
      "language": "python",
      "name": "python3"
    },
    "language_info": {
      "codemirror_mode": {
        "name": "ipython",
        "version": 3
      },
      "file_extension": ".py",
      "mimetype": "text/x-python",
      "name": "python",
      "nbconvert_exporter": "python",
      "pygments_lexer": "ipython3",
      "version": "3.9.7"
    },
    "orig_nbformat": 4,
    "colab": {
      "name": "pvalue.ipynb",
      "provenance": [],
      "collapsed_sections": [],
      "include_colab_link": true
    }
  },
  "nbformat": 4,
  "nbformat_minor": 0
}