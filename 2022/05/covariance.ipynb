{
  "cells": [
    {
      "cell_type": "markdown",
      "metadata": {
        "id": "view-in-github",
        "colab_type": "text"
      },
      "source": [
        "<a href=\"https://colab.research.google.com/github/chunribu/manim4stats/blob/main/2022/05/covariance.ipynb\" target=\"_parent\"><img src=\"https://colab.research.google.com/assets/colab-badge.svg\" alt=\"Open In Colab\"/></a>"
      ]
    },
    {
      "cell_type": "markdown",
      "source": [
        "# 协方差可视化 | 皮尔逊相关系数\n",
        "\n",
        "**观看视频**\n",
        "\n",
        "[![YouTube](https://icon-icons.com/downloadimage.php?id=168737&root=2699/PNG/32/&file=youtube_logo_icon_168737.png)](https://youtu.be/o_jAOtYDXrA) \n",
        "[![BiliBili](https://icon-icons.com/downloadimage.php?id=206792&root=3261/PNG/32/&file=bilibili_logo_icon_206792.png)](https://www.bilibili.com/video/BV1Bt4y1W7kB) \n",
        "[![iXigua](https://icon-icons.com/downloadimage.php?id=154582&root=2596/PNG/32/&file=xigua_icon_154582.png)](https://www.ixigua.com/7100162263713382919)\n"
      ],
      "metadata": {
        "id": "_1tD-y7StET-"
      }
    },
    {
      "cell_type": "code",
      "execution_count": null,
      "metadata": {
        "id": "MKjx_E05hgTk"
      },
      "outputs": [],
      "source": [
        "# 安装Manim\n",
        "!sudo apt install libcairo2-dev ffmpeg \\\n",
        "    texlive texlive-latex-extra texlive-fonts-extra \\\n",
        "    texlive-latex-recommended texlive-science \\\n",
        "    tipa libpango1.0-dev\n",
        "!pip install manim\n",
        "!pip install IPython --upgrade"
      ]
    },
    {
      "cell_type": "code",
      "execution_count": null,
      "metadata": {
        "id": "UgJ4gSQehgTs",
        "outputId": "0b9a4388-d69b-4b67-98bd-1a71b00b1fe6"
      },
      "outputs": [
        {
          "data": {
            "text/html": [
              "<pre style=\"white-space:pre;overflow-x:auto;line-height:normal;font-family:Menlo,'DejaVu Sans Mono',consolas,'Courier New',monospace\">Manim Community <span style=\"color: #008000; text-decoration-color: #008000\">v0.15.2</span>\n",
              "\n",
              "</pre>\n"
            ],
            "text/plain": [
              "Manim Community \u001b[32mv0.\u001b[0m\u001b[32m15.2\u001b[0m\n",
              "\n"
            ]
          },
          "metadata": {},
          "output_type": "display_data"
        }
      ],
      "source": [
        "from manim import *"
      ]
    },
    {
      "cell_type": "code",
      "execution_count": null,
      "metadata": {
        "id": "EMYqT0gZhgTu"
      },
      "outputs": [],
      "source": [
        "colors = [BLUE, TEAL,  GREEN, YELLOW, GOLD, RED, MAROON]\n",
        "\n",
        "def get_dots():\n",
        "    dots = [Dot(color=i) for i in colors]\n",
        "    labels = [SingleStringMathTex(f'x_{i+1}', color=colors[i], font_size=20) for i in range(7)]\n",
        "    dots_g = VGroup(*dots, *labels).arrange_in_grid(rows=2)\n",
        "    box = SurroundingRectangle(dots_g, color=WHITE, buff=0.3)\n",
        "    dots_g_b = VGroup(box, dots_g)\n",
        "    return dots, dots_g_b\n",
        "\n",
        "def get_nl():\n",
        "    return NumberLine(\n",
        "        x_range=[1,7,1],\n",
        "        length=5*6/7,\n",
        "        include_numbers=True\n",
        "    )\n",
        "\n",
        "def get_rectangle_corners(bottom_left, top_right): #(-1,0),(1,2)\n",
        "    return [\n",
        "        (top_right[0], top_right[1]),    #(1,2) TR\n",
        "        (bottom_left[0], top_right[1]),   #(-1,2) TL\n",
        "        (bottom_left[0], bottom_left[1]),  #(-1,0) BL\n",
        "        (top_right[0], bottom_left[1]),   #(1,0) BR\n",
        "    ]\n"
      ]
    },
    {
      "cell_type": "code",
      "execution_count": null,
      "metadata": {
        "id": "OxA5uNe6hgTw",
        "outputId": "27064b09-81a5-4d9e-da8f-990300d0818d"
      },
      "outputs": [
        {
          "name": "stderr",
          "output_type": "stream",
          "text": [
            "                                                                                                                                                          \r"
          ]
        },
        {
          "data": {
            "text/html": [
              "<video src=\"media\\jupyter\\View0@2022-05-21@04-15-06.mp4\" controls autoplay loop style=\"max-width: 60%;\"  >\n",
              "      Your browser does not support the <code>video</code> element.\n",
              "    </video>"
            ],
            "text/plain": [
              "<IPython.core.display.Video object>"
            ]
          },
          "metadata": {},
          "output_type": "display_data"
        }
      ],
      "source": [
        "%%manim -ql -v WARNING View0\n",
        "\n",
        "class View0(Scene):\n",
        "    def construct(self):\n",
        "        self.wait()\n",
        "\n",
        "        dots, dots_g_b = get_dots()\n",
        "        self.play(Create(dots_g_b, run_time=2))\n",
        "        self.wait()\n",
        "        self.play(dots_g_b.animate.to_edge(UL, buff=MED_LARGE_BUFF))\n",
        "\n",
        "        nl = get_nl()\n",
        "        _dots = [d.copy() for d in dots]\n",
        "        self.play(*[d.animate.move_to(nl.n2p(i+1)) for i,d in enumerate(_dots)])\n",
        "\n",
        "        self.play(Write(nl))\n",
        "\n",
        "        nl_d = VGroup(nl, *_dots)\n",
        "        self.play(nl_d.animate.shift(DOWN*2.5+RIGHT*0.35))\n",
        "        self.wait()\n",
        "\n",
        "        nl_d_y = nl_d.copy().move_to(ORIGIN+RIGHT*0.35)\n",
        "        self.play(Write(nl_d_y))\n",
        "        self.wait()\n",
        "\n",
        "        self.play(nl_d_y.animate.move_to(nl_d.get_center()))\n",
        "        self.play(Rotate(nl_d_y, angle=PI/2, about_point=nl.n2p(0)))\n",
        "\n",
        "        self.play(FadeOut(nl), FadeOut(nl_d_y.submobjects[0]))\n",
        "\n",
        "        ax = Axes(\n",
        "            x_range=[0, 7],\n",
        "            y_range=[0, 7],\n",
        "            x_length=5,\n",
        "            y_length=5,\n",
        "            axis_config={\n",
        "                \"include_numbers\": True,\n",
        "                \"include_tip\": False\n",
        "            },\n",
        "        )\n",
        "        labels = ax.get_axis_labels(x_label=\"x\", y_label=\"y\")\n",
        "        self.play(Create(ax))\n",
        "        self.play(Write(labels))\n",
        "        self.wait()\n",
        "\n",
        "        _dots_y = nl_d_y.submobjects[1:]\n",
        "        traces = [ax.get_lines_to_point(ax.c2p(i+1,i+1),color=GRAY) for i in range(7)]\n",
        "        self.play(*[d.animate(run_time=2).move_to(ax.c2p(i+1,i+1)) for i,d in enumerate(_dots)],\n",
        "                  *[d.animate(run_time=2).move_to(ax.c2p(i+1,i+1)) for i,d in enumerate(_dots_y)],\n",
        "                  *[Write(l,run_time=3.5) for l in traces])\n",
        "        self.remove(*_dots_y)\n",
        "\n",
        "        mu_x = ax.get_vertical_line(ax.c2p(4,7), line_func=Line, color=BLUE_D)\n",
        "        mu_x_label = SingleStringMathTex(r'\\mu_x', color=BLUE_D).next_to(mu_x, UP)\n",
        "        self.play(Write(mu_x))\n",
        "        self.play(Write(mu_x_label, run_time=0.5))\n",
        "\n",
        "        mu_y = ax.get_horizontal_line(ax.c2p(7,4), line_func=Line, color=YELLOW_D)\n",
        "        mu_y_label = SingleStringMathTex(r'\\mu_y', color=YELLOW_D).next_to(mu_y, RIGHT)\n",
        "        self.play(Write(mu_y))\n",
        "        self.play(Write(mu_y_label, run_time=0.5))\n",
        "        self.wait(2)\n",
        "\n",
        "        delta_xs = [Arrow(start=ax.c2p(i+1,i+1), end=ax.c2p(4,i+1), color=BLUE_D, buff=0) for i in range(7)]\n",
        "        delta_ys = [Arrow(start=ax.c2p(i+1,i+1), end=ax.c2p(i+1,4), color=YELLOW_D, buff=0) for i in range(7)]\n",
        "        rects = []\n",
        "        for i in range(7):\n",
        "            if i < 3:\n",
        "                rects.append(Polygon(*[ax.c2p(*c) for c in get_rectangle_corners((i+1,i+1), (4,4))], fill_color=colors[i], fill_opacity=0.5))\n",
        "                rects[-1].stroke_width = 0\n",
        "            elif i > 3:\n",
        "                rects.append(Polygon(*[ax.c2p(*c) for c in get_rectangle_corners((4,4), (i+1,i+1))], fill_color=colors[i], fill_opacity=0.5))\n",
        "                rects[-1].stroke_width = 0\n",
        "            else:\n",
        "                rects.append(Square(side_length=0.2, color=colors[i]).move_to(ax.c2p(4,4)).rotate(PI/4))\n",
        "\n",
        "        self.play(*[Write(i) for i in delta_xs])\n",
        "        self.wait()\n",
        "        self.play(*[Write(i) for i in delta_ys])\n",
        "        self.wait()\n",
        "        for i in rects:\n",
        "            self.play(Create(i, run_time=0.5))\n",
        "\n",
        "        ax_g = VGroup(ax, *labels, *_dots, mu_x, mu_x_label, mu_y, mu_y_label, *traces, *delta_xs, *delta_ys, *rects)\n",
        "        self.play(ax_g.animate.to_edge(DL, buff=SMALL_BUFF))\n",
        "\n",
        "        t_cal = MathTex('(',r'3\\times3','+',r'2\\times2','+',r'1\\times1','+',r'0\\times0','+',r'1\\times1','+',r'2\\times2','+',r'3\\times3',')',r'\\times\\frac{1}{7}=4',\n",
        "                        font_size=34).to_edge(UR)\n",
        "        t_cov = MathTex(r'Cov(x,y)=\\frac{\\sum_{i=1}^N (x_{i}-\\mu_x)(y_{i}-\\mu_y)}{N}').to_edge(UR).shift(DOWN*2)\n",
        "        t_var = MathTex(r'\\sigma^2=\\frac{\\sum_{i=1}^N (x_{i}-\\mu)^2}{N}').next_to(t_cov, DOWN)\n",
        "        self.play(*[rects[i].animate.move_to(t_cal.submobjects[j].get_center()) for i, j in enumerate([1,3,5,7,9,11,13])])\n",
        "        self.play(*[FadeOut(rects[i], run_time=0.5) for i in range(7)],\n",
        "                  *[Create(t_cal.submobjects[j]) for j in [1,3,5,7,9,11,13]])\n",
        "        self.wait()\n",
        "        self.play(*[Create(t_cal.submobjects[j]) for j in [2,4,6,8,10,12]])\n",
        "        self.play(*[Create(t_cal.submobjects[j]) for j in [0,-2]])\n",
        "        self.play(Create(t_cal.submobjects[-1]))\n",
        "\n",
        "        c_cov = Text('协方差(Covariance)').scale(0.5).to_edge(DOWN, buff=MED_LARGE_BUFF).shift(RIGHT)\n",
        "        self.play(Write(c_cov))\n",
        "\n",
        "        self.play(Write(t_cov))\n",
        "        self.wait()\n",
        "        self.play(Unwrite(c_cov))\n",
        "\n",
        "        img = ImageMobject('../stat-variance/cover.jpg')\n",
        "        img.height = 4\n",
        "        self.play(FadeIn(img, run_time=0.5))\n",
        "        self.play(Circumscribe(img, color=WHITE))\n",
        "        self.wait()\n",
        "        self.play(FadeOut(img, run_time=0.5), Write(t_var, run_time=1.5))\n",
        "        self.wait(2)\n",
        "\n",
        "        quadrants = dict()\n",
        "        quadrants[1] = Polygon(*[ax.c2p(*c) for c in get_rectangle_corners((4,4), (8,8))], fill_color=RED, fill_opacity=0.5)\n",
        "        quadrants[2] = Polygon(*[ax.c2p(*c) for c in get_rectangle_corners((0,4), (4,8))], fill_color=BLUE, fill_opacity=0.5)\n",
        "        quadrants[3] = Polygon(*[ax.c2p(*c) for c in get_rectangle_corners((0,0), (4,4))], fill_color=RED, fill_opacity=0.5)\n",
        "        quadrants[4] = Polygon(*[ax.c2p(*c) for c in get_rectangle_corners((4,0), (8,4))], fill_color=BLUE, fill_opacity=0.5)\n",
        "\n",
        "        self.play(Unwrite(ax), Unwrite(labels))\n",
        "        self.play(FadeIn(quadrants[1]), FadeIn(quadrants[3]))\n",
        "        self.wait(2)\n",
        "        self.play(FadeIn(quadrants[2]), FadeIn(quadrants[4]))\n",
        "        self.wait(2)\n",
        "\n",
        "        self.play(*[FadeOut(quadrants[i]) for i in [1,2,3,4]])\n",
        "        ax_g = ax_g[3:-len(rects)]\n",
        "        self.play(ax_g.animate.scale(0.5).next_to(dots_g_b, DOWN))\n",
        "        self.play(t_cov.animate.scale(0.8).to_edge(LEFT).shift(DOWN*2.5))\n",
        "        self.play(t_var.animate.scale(0.8).next_to(t_cov, DOWN), run_time=0.5)\n",
        "        self.wait()\n",
        "\n",
        "        ul = Underline(t_cal)\n",
        "        self.play(Write(ul))\n",
        "        t_sigma_xy = MathTex(r'\\sigma_x\\sigma_y', font_size=34).next_to(ul, DOWN)\n",
        "        self.play(Write(t_sigma_xy))\n",
        "        self.wait()\n",
        "\n",
        "        t_sigma = MathTex(r'\\sigma=\\sqrt{\\sigma^2}')\n",
        "        self.play(Write(t_sigma))\n",
        "        self.wait()\n",
        "\n",
        "        t_sigma_2 = MathTex(r'\\sigma^2').move_to(t_var.get_left())\n",
        "        self.play(t_sigma_2.animate.move_to(t_sigma_xy.get_center()))\n",
        "        self.play(FadeOut(t_sigma_2, run_time=0.3))\n",
        "\n",
        "        t_2x2 = MathTex(r'2\\times2', font_size=34).move_to(t_sigma_xy.get_center())\n",
        "        self.play(ReplacementTransform(t_sigma_xy, t_2x2), FadeOut(t_sigma))\n",
        "\n",
        "        c_pearson = Text('Pearson correlation coefficient').scale(0.5).to_edge(DOWN, buff=MED_LARGE_BUFF)\n",
        "        self.play(Write(c_pearson))\n",
        "\n",
        "        t_pearson = MathTex(r'\\rho_{xy}=\\frac{Cov(x,y)}{\\sigma_x\\sigma_y}')\n",
        "        self.play(Write(t_pearson))\n",
        "        self.play(Unwrite(c_pearson))\n",
        "\n",
        "        t_pearson_ = MathTex(r'-1\\leq\\rho\\leq1').next_to(t_pearson, buff=0.7)\n",
        "        self.play(Write(t_pearson_))\n",
        "\n",
        "        self.play(t_pearson.animate.scale(1.2).shift(RIGHT*1.5), t_pearson_.animate.scale(0.8).shift(RIGHT*1.5))\n",
        "\n",
        "        self.wait(4)"
      ]
    }
  ],
  "metadata": {
    "interpreter": {
      "hash": "e09cb2cffb659c8bc57a9c18f2f521820ea454b8dbbc48853d64bcf36627b3e2"
    },
    "kernelspec": {
      "display_name": "Python 3.9.7 ('base')",
      "language": "python",
      "name": "python3"
    },
    "language_info": {
      "codemirror_mode": {
        "name": "ipython",
        "version": 3
      },
      "file_extension": ".py",
      "mimetype": "text/x-python",
      "name": "python",
      "nbconvert_exporter": "python",
      "pygments_lexer": "ipython3",
      "version": "3.9.7"
    },
    "orig_nbformat": 4,
    "colab": {
      "name": "covariance.ipynb",
      "provenance": [],
      "include_colab_link": true
    }
  },
  "nbformat": 4,
  "nbformat_minor": 0
}