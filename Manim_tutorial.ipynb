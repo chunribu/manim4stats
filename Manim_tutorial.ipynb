{
  "nbformat": 4,
  "nbformat_minor": 0,
  "metadata": {
    "colab": {
      "name": "Manim-tutorial.ipynb",
      "provenance": [],
      "collapsed_sections": [],
      "authorship_tag": "ABX9TyPEP+DIrYODfmZYqXiZV0sj",
      "include_colab_link": true
    },
    "kernelspec": {
      "name": "python3",
      "display_name": "Python 3"
    },
    "language_info": {
      "name": "python"
    }
  },
  "cells": [
    {
      "cell_type": "markdown",
      "metadata": {
        "id": "view-in-github",
        "colab_type": "text"
      },
      "source": [
        "<a href=\"https://colab.research.google.com/github/chunribu/manim4stats/blob/main/Manim_tutorial.ipynb\" target=\"_parent\"><img src=\"https://colab.research.google.com/assets/colab-badge.svg\" alt=\"Open In Colab\"/></a>"
      ]
    },
    {
      "cell_type": "markdown",
      "source": [
        "# Manim社区版\n",
        "\n",
        "- 当前版本：v0.15.2\n",
        "\n",
        "- 官方网站：https://www.manim.community/\n",
        "\n",
        "- 原作者：Grant Sanderson（3Blue1Browm）\n",
        "\n"
      ],
      "metadata": {
        "id": "q98jJIUecJRj"
      }
    },
    {
      "cell_type": "markdown",
      "source": [
        "## 安装\n",
        "\n",
        "- 仅在colab中这样安装；\n",
        "\n",
        "- 本地安装的话，根据自己的系统，按官方文档中的步骤安装"
      ],
      "metadata": {
        "id": "aZMmoQGVmB5u"
      }
    },
    {
      "cell_type": "code",
      "execution_count": null,
      "metadata": {
        "id": "nOyEPAakaWcL"
      },
      "outputs": [],
      "source": [
        "!sudo apt install libcairo2-dev ffmpeg \\\n",
        "    texlive texlive-latex-extra texlive-fonts-extra \\\n",
        "    texlive-latex-recommended texlive-science \\\n",
        "    tipa libpango1.0-dev\n",
        "!pip install manim\n",
        "!pip install IPython --upgrade"
      ]
    },
    {
      "cell_type": "code",
      "source": [
        "# 导入\n",
        "from manim import *"
      ],
      "metadata": {
        "colab": {
          "base_uri": "https://localhost:8080/",
          "height": 49
        },
        "id": "GBe8rYvziyYM",
        "outputId": "f3f96ca3-8b40-4390-d7bd-edf9ec6d6503"
      },
      "execution_count": 1,
      "outputs": [
        {
          "output_type": "display_data",
          "data": {
            "text/plain": [
              "Manim Community \u001b[32mv0.\u001b[0m\u001b[32m15.2\u001b[0m\n",
              "\n"
            ],
            "text/html": [
              "<pre style=\"white-space:pre;overflow-x:auto;line-height:normal;font-family:Menlo,'DejaVu Sans Mono',consolas,'Courier New',monospace\">Manim Community <span style=\"color: #008000; text-decoration-color: #008000\">v0.15.2</span>\n",
              "\n",
              "</pre>\n"
            ]
          },
          "metadata": {}
        }
      ]
    },
    {
      "cell_type": "markdown",
      "source": [
        "## 基本用法\n",
        "\n",
        "- 场景在`construct`方法中操作和控制\n",
        "\n",
        "- 用`add`直接添加元素"
      ],
      "metadata": {
        "id": "UdcCTbK5hPQ8"
      }
    },
    {
      "cell_type": "code",
      "source": [
        "%%manim -ql -v WARNING View0\n",
        "\n",
        "class View0(Scene):\n",
        "    def construct(self):\n",
        "      circle = Circle()\n",
        "      self.add(circle)"
      ],
      "metadata": {
        "id": "TOQZx3YihLIY"
      },
      "execution_count": null,
      "outputs": []
    },
    {
      "cell_type": "markdown",
      "source": [
        "- 用`play`添加动画"
      ],
      "metadata": {
        "id": "gU0uP90cktbg"
      }
    },
    {
      "cell_type": "code",
      "source": [
        "%%manim -ql -v WARNING View1\n",
        "\n",
        "class View1(Scene):\n",
        "    def construct(self):\n",
        "        circle = Circle()\n",
        "        self.play(Create(circle))\n",
        "        self.wait()"
      ],
      "metadata": {
        "id": "I_3efS7fbWRG"
      },
      "execution_count": null,
      "outputs": []
    },
    {
      "cell_type": "markdown",
      "source": [
        "## 位置控制\n",
        "\n",
        "- `shift`\n",
        "- `move_to`\n",
        "- `next_to`\n",
        "- `align_to`"
      ],
      "metadata": {
        "id": "h88s6MU9npWW"
      }
    },
    {
      "cell_type": "code",
      "source": [
        "%%manim -ql -v WARNING View2\n",
        "\n",
        "class View2(Scene):\n",
        "    def construct(self):\n",
        "        circle = Circle()\n",
        "        triangle = Triangle()\n",
        "        square = Square()\n",
        "\n",
        "        circle.shift(LEFT)\n",
        "        triangle.next_to(circle, RIGHT)\n",
        "        square.move_to([0,1,0])\n",
        "\n",
        "        self.add(circle, square, triangle)"
      ],
      "metadata": {
        "id": "4yvKFT6lbaRM"
      },
      "execution_count": null,
      "outputs": []
    },
    {
      "cell_type": "markdown",
      "source": [
        "小技巧：先添加坐标系，最后渲染视频的时候再删掉"
      ],
      "metadata": {
        "id": "qw5NvhFcrKqg"
      }
    },
    {
      "cell_type": "code",
      "source": [
        "%%manim -ql -v WARNING View3\n",
        "\n",
        "class View3(Scene):\n",
        "    def construct(self):\n",
        "        self.add(NumberPlane())\n",
        "\n",
        "        circle = Circle()\n",
        "        triangle = Triangle()\n",
        "        square = Square()\n",
        "\n",
        "        circle.shift(LEFT)\n",
        "        triangle.next_to(circle, RIGHT)\n",
        "        square.move_to([0,1,0])\n",
        "\n",
        "        self.add(circle, square, triangle)"
      ],
      "metadata": {
        "id": "u9Y6bssFtBH3"
      },
      "execution_count": null,
      "outputs": []
    },
    {
      "cell_type": "markdown",
      "source": [
        "## 添加动画\n",
        "\n",
        "两种方式：\n",
        "\n",
        "- 调用元素的`animate`方法\n",
        "- 全局对象"
      ],
      "metadata": {
        "id": "VjxmJiRluos-"
      }
    },
    {
      "cell_type": "code",
      "source": [
        "%%manim -ql -v WARNING View4\n",
        "\n",
        "class View4(Scene):\n",
        "    def construct(self):\n",
        "        circle = Circle()\n",
        "        triangle = Triangle()\n",
        "        square = Square()\n",
        "\n",
        "        self.play(circle.animate.shift(LEFT))\n",
        "        self.play(triangle.animate.next_to(circle, RIGHT))\n",
        "        self.play(square.animate.move_to([0,1,0]))\n",
        "\n",
        "        vg = VGroup(circle, triangle, square)\n",
        "        self.play(FadeOut(vg))\n",
        "        self.wait()"
      ],
      "metadata": {
        "id": "potB8u8uuiA_"
      },
      "execution_count": null,
      "outputs": []
    },
    {
      "cell_type": "markdown",
      "source": [
        "与数据联动：\n",
        "- 借助`ValueTracker`"
      ],
      "metadata": {
        "id": "xVlj9FdPzRLp"
      }
    },
    {
      "cell_type": "code",
      "source": [
        "%%manim -ql -v WARNING View5\n",
        "\n",
        "class View5(Scene):\n",
        "    def construct(self):\n",
        "        number_line = NumberLine(include_numbers=True)\n",
        "        pointer = Vector(DOWN)\n",
        "        tracker = ValueTracker(0)\n",
        "\n",
        "        pointer.add_updater(\n",
        "            lambda m: m.next_to(number_line.n2p(tracker.get_value()), UP)\n",
        "        )\n",
        "\n",
        "        self.add(number_line, pointer)\n",
        "        self.play(tracker.animate.set_value(5))\n",
        "        self.wait()"
      ],
      "metadata": {
        "id": "gvUj0a_I0CnW"
      },
      "execution_count": null,
      "outputs": []
    }
  ]
}